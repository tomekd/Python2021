{
 "cells": [
  {
   "cell_type": "markdown",
   "metadata": {},
   "source": [
    "1. Zaimportuj bibliotkę pandas jako pd."
   ]
  },
  {
   "cell_type": "code",
   "execution_count": 1,
   "metadata": {},
   "outputs": [],
   "source": [
    "import pandas as pd"
   ]
  },
  {
   "cell_type": "markdown",
   "metadata": {},
   "source": [
    "2. Wczytaj zbiór danych `311.csv` do zniennej data."
   ]
  },
  {
   "cell_type": "code",
   "execution_count": 2,
   "metadata": {},
   "outputs": [],
   "source": [
    "data = pd.read_csv(\"311.csv\")"
   ]
  },
  {
   "cell_type": "markdown",
   "metadata": {},
   "source": [
    "3. Wyświetl 5 pierwszych wierszy z data."
   ]
  },
  {
   "cell_type": "code",
   "execution_count": 3,
   "metadata": {},
   "outputs": [
    {
     "output_type": "execute_result",
     "data": {
      "text/plain": [
       "   Unique Key            Created Date             Closed Date Agency  \\\n",
       "0    26589651  10/31/2013 02:08:41 AM                     NaN   NYPD   \n",
       "1    26593698  10/31/2013 02:01:04 AM                     NaN   NYPD   \n",
       "2    26594139  10/31/2013 02:00:24 AM  10/31/2013 02:40:32 AM   NYPD   \n",
       "3    26595721  10/31/2013 01:56:23 AM  10/31/2013 02:21:48 AM   NYPD   \n",
       "4    26590930  10/31/2013 01:53:44 AM                     NaN  DOHMH   \n",
       "\n",
       "                               Agency Name           Complaint Type  \\\n",
       "0          New York City Police Department  Noise - Street/Sidewalk   \n",
       "1          New York City Police Department          Illegal Parking   \n",
       "2          New York City Police Department       Noise - Commercial   \n",
       "3          New York City Police Department          Noise - Vehicle   \n",
       "4  Department of Health and Mental Hygiene                   Rodent   \n",
       "\n",
       "                     Descriptor        Location Type Incident Zip  \\\n",
       "0                  Loud Talking      Street/Sidewalk        11432   \n",
       "1  Commercial Overnight Parking      Street/Sidewalk        11378   \n",
       "2              Loud Music/Party  Club/Bar/Restaurant        10032   \n",
       "3                Car/Truck Horn      Street/Sidewalk        10023   \n",
       "4  Condition Attracting Rodents           Vacant Lot        10027   \n",
       "\n",
       "   Incident Address  ... Bridge Highway Name Bridge Highway Direction  \\\n",
       "0  90-03 169 STREET  ...                 NaN                      NaN   \n",
       "1         58 AVENUE  ...                 NaN                      NaN   \n",
       "2     4060 BROADWAY  ...                 NaN                      NaN   \n",
       "3    WEST 72 STREET  ...                 NaN                      NaN   \n",
       "4   WEST 124 STREET  ...                 NaN                      NaN   \n",
       "\n",
       "  Road Ramp Bridge Highway Segment Garage Lot Name Ferry Direction  \\\n",
       "0       NaN                    NaN             NaN             NaN   \n",
       "1       NaN                    NaN             NaN             NaN   \n",
       "2       NaN                    NaN             NaN             NaN   \n",
       "3       NaN                    NaN             NaN             NaN   \n",
       "4       NaN                    NaN             NaN             NaN   \n",
       "\n",
       "  Ferry Terminal Name   Latitude  Longitude  \\\n",
       "0                 NaN  40.708275 -73.791604   \n",
       "1                 NaN  40.721041 -73.909453   \n",
       "2                 NaN  40.843330 -73.939144   \n",
       "3                 NaN  40.778009 -73.980213   \n",
       "4                 NaN  40.807691 -73.947387   \n",
       "\n",
       "                                   Location  \n",
       "0   (40.70827532593202, -73.79160395779721)  \n",
       "1  (40.721040535628305, -73.90945306791765)  \n",
       "2   (40.84332975466513, -73.93914371913482)  \n",
       "3    (40.7780087446372, -73.98021349023975)  \n",
       "4   (40.80769092704951, -73.94738703491433)  \n",
       "\n",
       "[5 rows x 52 columns]"
      ],
      "text/html": "<div>\n<style scoped>\n    .dataframe tbody tr th:only-of-type {\n        vertical-align: middle;\n    }\n\n    .dataframe tbody tr th {\n        vertical-align: top;\n    }\n\n    .dataframe thead th {\n        text-align: right;\n    }\n</style>\n<table border=\"1\" class=\"dataframe\">\n  <thead>\n    <tr style=\"text-align: right;\">\n      <th></th>\n      <th>Unique Key</th>\n      <th>Created Date</th>\n      <th>Closed Date</th>\n      <th>Agency</th>\n      <th>Agency Name</th>\n      <th>Complaint Type</th>\n      <th>Descriptor</th>\n      <th>Location Type</th>\n      <th>Incident Zip</th>\n      <th>Incident Address</th>\n      <th>...</th>\n      <th>Bridge Highway Name</th>\n      <th>Bridge Highway Direction</th>\n      <th>Road Ramp</th>\n      <th>Bridge Highway Segment</th>\n      <th>Garage Lot Name</th>\n      <th>Ferry Direction</th>\n      <th>Ferry Terminal Name</th>\n      <th>Latitude</th>\n      <th>Longitude</th>\n      <th>Location</th>\n    </tr>\n  </thead>\n  <tbody>\n    <tr>\n      <th>0</th>\n      <td>26589651</td>\n      <td>10/31/2013 02:08:41 AM</td>\n      <td>NaN</td>\n      <td>NYPD</td>\n      <td>New York City Police Department</td>\n      <td>Noise - Street/Sidewalk</td>\n      <td>Loud Talking</td>\n      <td>Street/Sidewalk</td>\n      <td>11432</td>\n      <td>90-03 169 STREET</td>\n      <td>...</td>\n      <td>NaN</td>\n      <td>NaN</td>\n      <td>NaN</td>\n      <td>NaN</td>\n      <td>NaN</td>\n      <td>NaN</td>\n      <td>NaN</td>\n      <td>40.708275</td>\n      <td>-73.791604</td>\n      <td>(40.70827532593202, -73.79160395779721)</td>\n    </tr>\n    <tr>\n      <th>1</th>\n      <td>26593698</td>\n      <td>10/31/2013 02:01:04 AM</td>\n      <td>NaN</td>\n      <td>NYPD</td>\n      <td>New York City Police Department</td>\n      <td>Illegal Parking</td>\n      <td>Commercial Overnight Parking</td>\n      <td>Street/Sidewalk</td>\n      <td>11378</td>\n      <td>58 AVENUE</td>\n      <td>...</td>\n      <td>NaN</td>\n      <td>NaN</td>\n      <td>NaN</td>\n      <td>NaN</td>\n      <td>NaN</td>\n      <td>NaN</td>\n      <td>NaN</td>\n      <td>40.721041</td>\n      <td>-73.909453</td>\n      <td>(40.721040535628305, -73.90945306791765)</td>\n    </tr>\n    <tr>\n      <th>2</th>\n      <td>26594139</td>\n      <td>10/31/2013 02:00:24 AM</td>\n      <td>10/31/2013 02:40:32 AM</td>\n      <td>NYPD</td>\n      <td>New York City Police Department</td>\n      <td>Noise - Commercial</td>\n      <td>Loud Music/Party</td>\n      <td>Club/Bar/Restaurant</td>\n      <td>10032</td>\n      <td>4060 BROADWAY</td>\n      <td>...</td>\n      <td>NaN</td>\n      <td>NaN</td>\n      <td>NaN</td>\n      <td>NaN</td>\n      <td>NaN</td>\n      <td>NaN</td>\n      <td>NaN</td>\n      <td>40.843330</td>\n      <td>-73.939144</td>\n      <td>(40.84332975466513, -73.93914371913482)</td>\n    </tr>\n    <tr>\n      <th>3</th>\n      <td>26595721</td>\n      <td>10/31/2013 01:56:23 AM</td>\n      <td>10/31/2013 02:21:48 AM</td>\n      <td>NYPD</td>\n      <td>New York City Police Department</td>\n      <td>Noise - Vehicle</td>\n      <td>Car/Truck Horn</td>\n      <td>Street/Sidewalk</td>\n      <td>10023</td>\n      <td>WEST 72 STREET</td>\n      <td>...</td>\n      <td>NaN</td>\n      <td>NaN</td>\n      <td>NaN</td>\n      <td>NaN</td>\n      <td>NaN</td>\n      <td>NaN</td>\n      <td>NaN</td>\n      <td>40.778009</td>\n      <td>-73.980213</td>\n      <td>(40.7780087446372, -73.98021349023975)</td>\n    </tr>\n    <tr>\n      <th>4</th>\n      <td>26590930</td>\n      <td>10/31/2013 01:53:44 AM</td>\n      <td>NaN</td>\n      <td>DOHMH</td>\n      <td>Department of Health and Mental Hygiene</td>\n      <td>Rodent</td>\n      <td>Condition Attracting Rodents</td>\n      <td>Vacant Lot</td>\n      <td>10027</td>\n      <td>WEST 124 STREET</td>\n      <td>...</td>\n      <td>NaN</td>\n      <td>NaN</td>\n      <td>NaN</td>\n      <td>NaN</td>\n      <td>NaN</td>\n      <td>NaN</td>\n      <td>NaN</td>\n      <td>40.807691</td>\n      <td>-73.947387</td>\n      <td>(40.80769092704951, -73.94738703491433)</td>\n    </tr>\n  </tbody>\n</table>\n<p>5 rows × 52 columns</p>\n</div>"
     },
     "metadata": {},
     "execution_count": 3
    }
   ],
   "source": [
    "data.head()"
   ]
  },
  {
   "cell_type": "markdown",
   "metadata": {},
   "source": [
    "4. Wyświetl nazwy kolumn."
   ]
  },
  {
   "cell_type": "code",
   "execution_count": 4,
   "metadata": {},
   "outputs": [
    {
     "output_type": "execute_result",
     "data": {
      "text/plain": [
       "Index(['Unique Key', 'Created Date', 'Closed Date', 'Agency', 'Agency Name',\n",
       "       'Complaint Type', 'Descriptor', 'Location Type', 'Incident Zip',\n",
       "       'Incident Address', 'Street Name', 'Cross Street 1', 'Cross Street 2',\n",
       "       'Intersection Street 1', 'Intersection Street 2', 'Address Type',\n",
       "       'City', 'Landmark', 'Facility Type', 'Status', 'Due Date',\n",
       "       'Resolution Action Updated Date', 'Community Board', 'Borough',\n",
       "       'X Coordinate (State Plane)', 'Y Coordinate (State Plane)',\n",
       "       'Park Facility Name', 'Park Borough', 'School Name', 'School Number',\n",
       "       'School Region', 'School Code', 'School Phone Number', 'School Address',\n",
       "       'School City', 'School State', 'School Zip', 'School Not Found',\n",
       "       'School or Citywide Complaint', 'Vehicle Type', 'Taxi Company Borough',\n",
       "       'Taxi Pick Up Location', 'Bridge Highway Name',\n",
       "       'Bridge Highway Direction', 'Road Ramp', 'Bridge Highway Segment',\n",
       "       'Garage Lot Name', 'Ferry Direction', 'Ferry Terminal Name', 'Latitude',\n",
       "       'Longitude', 'Location'],\n",
       "      dtype='object')"
      ]
     },
     "metadata": {},
     "execution_count": 4
    }
   ],
   "source": [
    "data.columns"
   ]
  },
  {
   "cell_type": "markdown",
   "metadata": {},
   "source": [
    "5. Wyświetl ile nasz zbiór danych ma kolumn i wierszy."
   ]
  },
  {
   "cell_type": "code",
   "execution_count": 5,
   "metadata": {},
   "outputs": [
    {
     "output_type": "execute_result",
     "data": {
      "text/plain": [
       "(111069, 52)"
      ]
     },
     "metadata": {},
     "execution_count": 5
    }
   ],
   "source": [
    "data.shape"
   ]
  },
  {
   "cell_type": "markdown",
   "metadata": {},
   "source": [
    "6. Wyświetl kolumnę 'City' z powyższego zbioru danych."
   ]
  },
  {
   "cell_type": "code",
   "execution_count": 6,
   "metadata": {},
   "outputs": [
    {
     "output_type": "execute_result",
     "data": {
      "text/plain": [
       "0          JAMAICA\n",
       "1          MASPETH\n",
       "2         NEW YORK\n",
       "3         NEW YORK\n",
       "4         NEW YORK\n",
       "            ...   \n",
       "111064    BROOKLYN\n",
       "111065     JAMAICA\n",
       "111066    NEW YORK\n",
       "111067    BROOKLYN\n",
       "111068    BROOKLYN\n",
       "Name: City, Length: 111069, dtype: object"
      ]
     },
     "metadata": {},
     "execution_count": 6
    }
   ],
   "source": [
    "data['City']"
   ]
  },
  {
   "cell_type": "markdown",
   "metadata": {},
   "source": [
    "7. Wyświetl jakie wartoścu przyjmuje kolumna 'City'."
   ]
  },
  {
   "cell_type": "code",
   "execution_count": 8,
   "metadata": {},
   "outputs": [
    {
     "output_type": "execute_result",
     "data": {
      "text/plain": [
       "array(['JAMAICA', 'MASPETH', 'NEW YORK', 'JACKSON HEIGHTS',\n",
       "       'SOUTH RICHMOND HILL', 'OZONE PARK', 'BROOKLYN', 'BRONX',\n",
       "       'STATEN ISLAND', nan, 'MIDDLE VILLAGE', 'LONG ISLAND CITY',\n",
       "       'Rego Park', 'WOODHAVEN', 'RICHMOND HILL', 'EAST ELMHURST',\n",
       "       'SAINT ALBANS', 'SOUTH OZONE PARK', 'FRESH MEADOWS', 'Jamaica',\n",
       "       'NEW HYDE PARK', 'ASTORIA', 'HOWARD BEACH', 'ELMHURST',\n",
       "       'FAR ROCKAWAY', 'COLLEGE POINT', 'Elmhurst', 'FLUSHING',\n",
       "       'REGO PARK', 'East Elmhurst', 'Hollis', 'Springfield Gardens',\n",
       "       'Forest Hills', 'BAYSIDE', 'Ridgewood', 'SPRINGFIELD GARDENS',\n",
       "       'WOODSIDE', 'South Ozone Park', 'RIDGEWOOD', 'OAKLAND GARDENS',\n",
       "       'Maspeth', 'CORONA', 'ROCKAWAY PARK', 'Kew Gardens', 'Astoria',\n",
       "       'Saint Albans', 'Sunnyside', 'Flushing', 'Oakland Gardens',\n",
       "       'Jackson Heights', 'Ozone Park', 'Rosedale', 'Howard Beach',\n",
       "       'Woodside', 'Far Rockaway', 'Woodhaven', 'Queens Village',\n",
       "       'South Richmond Hill', 'Fresh Meadows', 'LITTLE NECK',\n",
       "       'FOREST HILLS', 'Corona', 'Richmond Hill', 'KEW GARDENS',\n",
       "       'Cambria Heights', 'Long Island City', 'ROSEDALE', 'Whitestone',\n",
       "       'WHITESTONE', 'New Hyde Park', 'Bayside', 'HOLLIS', 'BELLEROSE',\n",
       "       'Glen Oaks', 'Middle Village', 'QUEENS VILLAGE', 'CAMBRIA HEIGHTS',\n",
       "       'Rockaway Park', 'Floral Park', 'Little Neck', 'QUEENS',\n",
       "       'College Point', 'SUNNYSIDE', 'Breezy Point', 'Arverne',\n",
       "       'FLORAL PARK', 'Bellerose', 'RYEBROOK', 'CENTRAL PARK',\n",
       "       'GLEN OAKS', 'LAWRENCE', 'HOUSTON', 'PORT JEFFERSON STATION',\n",
       "       'CLIFTON', 'ARVERNE', 'NORWELL', 'BRIARWOOD', 'CHEEKTOWAGA',\n",
       "       'ST. PAUL', 'NEWARK', 'JERSEY CITY', 'NORTH BERGEN', 'LOS ANGELES',\n",
       "       'MELVILLE', 'NORFOLK', 'HAUPPAUGE', 'HASBROCK HEIGHTS', 'LYNBROOK',\n",
       "       'VALLEY STREAM', 'UNION CITY', 'LAKE SUCCESS', 'WEST NEW YORK',\n",
       "       'MINEOLA', 'SAN DIEGO', 'ROSELYN', 'BELLEVILLE', 'WOODBURY',\n",
       "       'BOHIEMA', 'CENTRAL ISLIP', 'HEMSTEAD', 'EAST ROCKAWAY',\n",
       "       'EDGEWATER', 'BRIDGE  WATER', 'ROSLYN', 'NJ', 'ELMONT',\n",
       "       'LONG ISLAND', 'BLOOMIGTON', 'GREENVILLE', 'BIRMINGHAM',\n",
       "       'FREEPORT', 'GARDEN CITY', 'FLORENCE', 'COL.ANVURES', 'STAMFORD',\n",
       "       'ELIZABETH', 'NEW YORK CITY', 'BREEZY POINT', 'SYRACUSE', 'NANUET',\n",
       "       'FARMINGDALE', 'NEW YOR', 'NEWARK AIRPORT'], dtype=object)"
      ]
     },
     "metadata": {},
     "execution_count": 8
    }
   ],
   "source": [
    "data['City'].unique()"
   ]
  },
  {
   "cell_type": "markdown",
   "metadata": {},
   "source": [
    "8. Wyświetl tabelę rozstawną kolumny City."
   ]
  },
  {
   "cell_type": "code",
   "execution_count": 10,
   "metadata": {},
   "outputs": [
    {
     "output_type": "execute_result",
     "data": {
      "text/plain": [
       "BROOKLYN         31662\n",
       "NEW YORK         22664\n",
       "BRONX            18438\n",
       "STATEN ISLAND     4766\n",
       "Jamaica           1521\n",
       "                 ...  \n",
       "BREEZY POINT         1\n",
       "JERSEY CITY          1\n",
       "VALLEY STREAM        1\n",
       "CENTRAL ISLIP        1\n",
       "COL.ANVURES          1\n",
       "Name: City, Length: 142, dtype: int64"
      ]
     },
     "metadata": {},
     "execution_count": 10
    }
   ],
   "source": [
    "data['City'].value_counts()"
   ]
  },
  {
   "cell_type": "markdown",
   "metadata": {},
   "source": [
    "9. Wyświetl tylko pierwsze 4 wiersze z wcześniejszego polecenia."
   ]
  },
  {
   "cell_type": "code",
   "execution_count": 11,
   "metadata": {},
   "outputs": [
    {
     "output_type": "execute_result",
     "data": {
      "text/plain": [
       "BROOKLYN         31662\n",
       "NEW YORK         22664\n",
       "BRONX            18438\n",
       "STATEN ISLAND     4766\n",
       "Name: City, dtype: int64"
      ]
     },
     "metadata": {},
     "execution_count": 11
    }
   ],
   "source": [
    "data['City'].value_counts()[:4]"
   ]
  },
  {
   "cell_type": "markdown",
   "metadata": {},
   "source": [
    "10. Wyświetl, w ilu przypadkach kolumna City zawiera NaN."
   ]
  },
  {
   "cell_type": "code",
   "execution_count": 13,
   "metadata": {},
   "outputs": [
    {
     "output_type": "execute_result",
     "data": {
      "text/plain": [
       "12215"
      ]
     },
     "metadata": {},
     "execution_count": 13
    }
   ],
   "source": [
    "data['City'].isna().sum()"
   ]
  },
  {
   "cell_type": "markdown",
   "metadata": {},
   "source": [
    "11. Wyświetl data.info()"
   ]
  },
  {
   "cell_type": "code",
   "execution_count": 14,
   "metadata": {},
   "outputs": [
    {
     "output_type": "stream",
     "name": "stdout",
     "text": [
      "<class 'pandas.core.frame.DataFrame'>\nRangeIndex: 111069 entries, 0 to 111068\nData columns (total 52 columns):\n #   Column                          Non-Null Count   Dtype  \n---  ------                          --------------   -----  \n 0   Unique Key                      111069 non-null  int64  \n 1   Created Date                    111069 non-null  object \n 2   Closed Date                     60270 non-null   object \n 3   Agency                          111069 non-null  object \n 4   Agency Name                     111069 non-null  object \n 5   Complaint Type                  111069 non-null  object \n 6   Descriptor                      110613 non-null  object \n 7   Location Type                   79022 non-null   object \n 8   Incident Zip                    98807 non-null   object \n 9   Incident Address                84441 non-null   object \n 10  Street Name                     84432 non-null   object \n 11  Cross Street 1                  84728 non-null   object \n 12  Cross Street 2                  84005 non-null   object \n 13  Intersection Street 1           19364 non-null   object \n 14  Intersection Street 2           19366 non-null   object \n 15  Address Type                    102247 non-null  object \n 16  City                            98854 non-null   object \n 17  Landmark                        95 non-null      object \n 18  Facility Type                   19104 non-null   object \n 19  Status                          111069 non-null  object \n 20  Due Date                        39239 non-null   object \n 21  Resolution Action Updated Date  96507 non-null   object \n 22  Community Board                 111069 non-null  object \n 23  Borough                         111069 non-null  object \n 24  X Coordinate (State Plane)      98143 non-null   float64\n 25  Y Coordinate (State Plane)      98143 non-null   float64\n 26  Park Facility Name              111069 non-null  object \n 27  Park Borough                    111069 non-null  object \n 28  School Name                     111069 non-null  object \n 29  School Number                   111048 non-null  object \n 30  School Region                   110524 non-null  object \n 31  School Code                     110524 non-null  object \n 32  School Phone Number             111069 non-null  object \n 33  School Address                  111069 non-null  object \n 34  School City                     111069 non-null  object \n 35  School State                    111069 non-null  object \n 36  School Zip                      111069 non-null  object \n 37  School Not Found                38984 non-null   object \n 38  School or Citywide Complaint    0 non-null       float64\n 39  Vehicle Type                    99 non-null      object \n 40  Taxi Company Borough            117 non-null     object \n 41  Taxi Pick Up Location           1059 non-null    object \n 42  Bridge Highway Name             185 non-null     object \n 43  Bridge Highway Direction        185 non-null     object \n 44  Road Ramp                       180 non-null     object \n 45  Bridge Highway Segment          219 non-null     object \n 46  Garage Lot Name                 49 non-null      object \n 47  Ferry Direction                 24 non-null      object \n 48  Ferry Terminal Name             70 non-null      object \n 49  Latitude                        98143 non-null   float64\n 50  Longitude                       98143 non-null   float64\n 51  Location                        98143 non-null   object \ndtypes: float64(5), int64(1), object(46)\nmemory usage: 44.1+ MB\n"
     ]
    }
   ],
   "source": [
    "data.info()"
   ]
  },
  {
   "cell_type": "markdown",
   "metadata": {},
   "source": [
    "12. Wyświetl tylko kolumny Borough i Agency i tylko 5 ostatnich linii."
   ]
  },
  {
   "cell_type": "code",
   "execution_count": 16,
   "metadata": {},
   "outputs": [
    {
     "output_type": "execute_result",
     "data": {
      "text/plain": [
       "          Borough Agency\n",
       "111064   BROOKLYN    DPR\n",
       "111065     QUEENS   NYPD\n",
       "111066  MANHATTAN   NYPD\n",
       "111067   BROOKLYN   NYPD\n",
       "111068   BROOKLYN   NYPD"
      ],
      "text/html": "<div>\n<style scoped>\n    .dataframe tbody tr th:only-of-type {\n        vertical-align: middle;\n    }\n\n    .dataframe tbody tr th {\n        vertical-align: top;\n    }\n\n    .dataframe thead th {\n        text-align: right;\n    }\n</style>\n<table border=\"1\" class=\"dataframe\">\n  <thead>\n    <tr style=\"text-align: right;\">\n      <th></th>\n      <th>Borough</th>\n      <th>Agency</th>\n    </tr>\n  </thead>\n  <tbody>\n    <tr>\n      <th>111064</th>\n      <td>BROOKLYN</td>\n      <td>DPR</td>\n    </tr>\n    <tr>\n      <th>111065</th>\n      <td>QUEENS</td>\n      <td>NYPD</td>\n    </tr>\n    <tr>\n      <th>111066</th>\n      <td>MANHATTAN</td>\n      <td>NYPD</td>\n    </tr>\n    <tr>\n      <th>111067</th>\n      <td>BROOKLYN</td>\n      <td>NYPD</td>\n    </tr>\n    <tr>\n      <th>111068</th>\n      <td>BROOKLYN</td>\n      <td>NYPD</td>\n    </tr>\n  </tbody>\n</table>\n</div>"
     },
     "metadata": {},
     "execution_count": 16
    }
   ],
   "source": [
    "data[['Borough', 'Agency']].tail()"
   ]
  },
  {
   "cell_type": "markdown",
   "metadata": {},
   "source": [
    "13. Wyświetl tylko te dane, dla których wartość z kolumny Agency jest równa\n",
    "NYPD. Zlicz ile jest takich przykładów.\n"
   ]
  },
  {
   "cell_type": "code",
   "execution_count": 18,
   "metadata": {},
   "outputs": [
    {
     "output_type": "execute_result",
     "data": {
      "text/plain": [
       "795340"
      ]
     },
     "metadata": {},
     "execution_count": 18
    }
   ],
   "source": [
    "data[data['Agency'] == 'NYPD'].size"
   ]
  },
  {
   "cell_type": "markdown",
   "metadata": {},
   "source": [
    "14. Wyświetl wartość minimalną i maksymalną z kolumny Longitude."
   ]
  },
  {
   "cell_type": "code",
   "execution_count": 19,
   "metadata": {},
   "outputs": [
    {
     "output_type": "stream",
     "name": "stdout",
     "text": [
      "-74.25443731808713\n-73.70127761473603\n"
     ]
    }
   ],
   "source": [
    "print(data['Longitude'].min())\n",
    "print(data['Longitude'].max())"
   ]
  },
  {
   "cell_type": "markdown",
   "metadata": {},
   "source": [
    "15. Dodaj kolumne diff, która powstanie przez sumowanie kolumn Longitude i Latitude."
   ]
  },
  {
   "cell_type": "code",
   "execution_count": 20,
   "metadata": {},
   "outputs": [],
   "source": [
    "data['diff'] = data['Longitude'] + data['Latitude']"
   ]
  },
  {
   "cell_type": "markdown",
   "metadata": {},
   "source": [
    "16. Wyświetl rozkład wartości dla kolumny 'Descriptor', dla której Agency jest\n",
    "równe NYPD."
   ]
  },
  {
   "cell_type": "code",
   "execution_count": 21,
   "metadata": {},
   "outputs": [
    {
     "output_type": "execute_result",
     "data": {
      "text/plain": [
       "No Access                         3429\n",
       "Loud Music/Party                  3166\n",
       "Loud Talking                      1272\n",
       "Partial Access                    1161\n",
       "Posted Parking Sign Violation      957\n",
       "With License Plate                 803\n",
       "Commercial Overnight Parking       548\n",
       "Blocked Hydrant                    546\n",
       "Blocked Sidewalk                   541\n",
       "Car/Truck Music                    398\n",
       "Double Parked Blocking Traffic     286\n",
       "Double Parked Blocking Vehicle     253\n",
       "Engine Idling                      248\n",
       "Banging/Pounding                   247\n",
       "Car/Truck Horn                     178\n",
       "Unlicensed                         127\n",
       "Overnight Commercial Storage       116\n",
       "Congestion/Gridlock                112\n",
       "In Prohibited Area                 102\n",
       "Neglected                           65\n",
       "Unauthorized Bus Layover            58\n",
       "In Public                           48\n",
       "Detached Trailer                    38\n",
       "Other (complaint details)           33\n",
       "Tortured                            32\n",
       "Chained                             31\n",
       "Underage - Licensed Est             30\n",
       "Playing in Unsuitable Place         25\n",
       "Truck Route Violation               20\n",
       "Chronic Stoplight Violation         17\n",
       "Chronic Speeding                    13\n",
       "Police Report Requested              8\n",
       "Drag Racing                          6\n",
       "Police Report Not Requested          5\n",
       "After Hours - Licensed Est           5\n",
       "Loud Television                      5\n",
       "Vehicle                              4\n",
       "No Shelter                           3\n",
       "Nuisance/Truant                      1\n",
       "Building                             1\n",
       "Name: Descriptor, dtype: int64"
      ]
     },
     "metadata": {},
     "execution_count": 21
    }
   ],
   "source": [
    "data[data['Agency'] == 'NYPD']['Descriptor'].value_counts()"
   ]
  }
 ],
 "metadata": {
  "kernelspec": {
   "display_name": "Python 3",
   "language": "python",
   "name": "python3"
  },
  "language_info": {
   "codemirror_mode": {
    "name": "ipython",
    "version": 3
   },
   "file_extension": ".py",
   "mimetype": "text/x-python",
   "name": "python",
   "nbconvert_exporter": "python",
   "pygments_lexer": "ipython3",
   "version": "3.7.4-final"
  }
 },
 "nbformat": 4,
 "nbformat_minor": 2
}